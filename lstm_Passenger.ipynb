{
 "cells": [
  {
   "cell_type": "code",
   "execution_count": 1,
   "metadata": {},
   "outputs": [
    {
     "name": "stderr",
     "output_type": "stream",
     "text": [
      "Using TensorFlow backend.\n"
     ]
    }
   ],
   "source": [
    "import pandas as pd\n",
    "import numpy as np\n",
    "import matplotlib.pyplot as plt\n",
    "from sklearn.preprocessing import MinMaxScaler\n",
    "from keras.models import Sequential\n",
    "from keras.layers import LSTM, Dense, Activation"
   ]
  },
  {
   "cell_type": "code",
   "execution_count": 2,
   "metadata": {},
   "outputs": [],
   "source": [
    "def create_model():\n",
    "    model = Sequential()\n",
    "    #输入数据的shape为(n_samples, timestamps, features)\n",
    "    #隐藏层设置为256, input_shape元组第二个参数1意指features为1\n",
    "    #下面还有个lstm，故return_sequences设置为True\n",
    "    model.add(LSTM(units=256,input_shape=(None,1),return_sequences=True))\n",
    "    model.add(LSTM(units=256))\n",
    "    #后接全连接层，直接输出单个值，故units为1\n",
    "    model.add(Dense(units=1))\n",
    "    model.add(Activation('linear'))\n",
    "    model.compile(loss='mse',optimizer='adam')\n",
    "    return model"
   ]
  },
  {
   "cell_type": "code",
   "execution_count": 3,
   "metadata": {},
   "outputs": [],
   "source": [
    "df = pd.read_csv('passengers.csv',usecols=['passengers'])"
   ]
  },
  {
   "cell_type": "markdown",
   "metadata": {},
   "source": [
    "# 数据归一化后分成序列"
   ]
  },
  {
   "cell_type": "code",
   "execution_count": 4,
   "metadata": {},
   "outputs": [
    {
     "name": "stderr",
     "output_type": "stream",
     "text": [
      "/Library/Frameworks/Python.framework/Versions/3.7/lib/python3.7/site-packages/sklearn/preprocessing/data.py:323: DataConversionWarning: Data with input dtype int64 were all converted to float64 by MinMaxScaler.\n",
      "  return self.partial_fit(X, y)\n"
     ]
    }
   ],
   "source": [
    "scaler_minmax = MinMaxScaler()\n",
    "data = scaler_minmax.fit_transform(df)\n",
    "infer_seq_length = 10#用于推断的历史序列长度\n",
    "\n",
    "d = []\n",
    "for i in range(data.shape[0]-infer_seq_length):\n",
    "    d.append(data[i:i+infer_seq_length+1].tolist())\n",
    "d = np.array(d)"
   ]
  },
  {
   "cell_type": "markdown",
   "metadata": {},
   "source": [
    "# 划分训练集"
   ]
  },
  {
   "cell_type": "code",
   "execution_count": 5,
   "metadata": {},
   "outputs": [],
   "source": [
    "split_rate = 0.9\n",
    "X_train, y_train = d[:int(d.shape[0]*split_rate),:-1], d[:int(d.shape[0]*split_rate),-1]"
   ]
  },
  {
   "cell_type": "markdown",
   "metadata": {},
   "source": [
    "# 创建训练模型"
   ]
  },
  {
   "cell_type": "code",
   "execution_count": 6,
   "metadata": {},
   "outputs": [
    {
     "name": "stdout",
     "output_type": "stream",
     "text": [
      "WARNING:tensorflow:From /Library/Frameworks/Python.framework/Versions/3.7/lib/python3.7/site-packages/tensorflow/python/framework/op_def_library.py:263: colocate_with (from tensorflow.python.framework.ops) is deprecated and will be removed in a future version.\n",
      "Instructions for updating:\n",
      "Colocations handled automatically by placer.\n"
     ]
    }
   ],
   "source": [
    "model =create_model()"
   ]
  },
  {
   "cell_type": "code",
   "execution_count": 7,
   "metadata": {},
   "outputs": [
    {
     "name": "stdout",
     "output_type": "stream",
     "text": [
      "WARNING:tensorflow:From /Library/Frameworks/Python.framework/Versions/3.7/lib/python3.7/site-packages/tensorflow/python/ops/math_ops.py:3066: to_int32 (from tensorflow.python.ops.math_ops) is deprecated and will be removed in a future version.\n",
      "Instructions for updating:\n",
      "Use tf.cast instead.\n",
      "Train on 225 samples, validate on 25 samples\n",
      "Epoch 1/100\n",
      "225/225 [==============================] - 3s 12ms/step - loss: 0.0176 - val_loss: 0.0206\n",
      "Epoch 2/100\n",
      "225/225 [==============================] - 1s 3ms/step - loss: 0.0117 - val_loss: 0.0219\n",
      "Epoch 3/100\n",
      "225/225 [==============================] - 1s 4ms/step - loss: 0.0116 - val_loss: 0.0171\n",
      "Epoch 4/100\n",
      "225/225 [==============================] - 1s 3ms/step - loss: 0.0108 - val_loss: 0.0167\n",
      "Epoch 5/100\n",
      "225/225 [==============================] - 1s 3ms/step - loss: 0.0110 - val_loss: 0.0176\n",
      "Epoch 6/100\n",
      "225/225 [==============================] - 1s 3ms/step - loss: 0.0122 - val_loss: 0.0205\n",
      "Epoch 7/100\n",
      "225/225 [==============================] - 1s 3ms/step - loss: 0.0104 - val_loss: 0.0178\n",
      "Epoch 8/100\n",
      "225/225 [==============================] - 1s 4ms/step - loss: 0.0101 - val_loss: 0.0178\n",
      "Epoch 9/100\n",
      "225/225 [==============================] - 1s 4ms/step - loss: 0.0100 - val_loss: 0.0171\n",
      "Epoch 10/100\n",
      "225/225 [==============================] - 1s 5ms/step - loss: 0.0100 - val_loss: 0.0179\n",
      "Epoch 11/100\n",
      "225/225 [==============================] - 1s 4ms/step - loss: 0.0113 - val_loss: 0.0187\n",
      "Epoch 12/100\n",
      "225/225 [==============================] - 1s 5ms/step - loss: 0.0106 - val_loss: 0.0180\n",
      "Epoch 13/100\n",
      "225/225 [==============================] - 1s 4ms/step - loss: 0.0104 - val_loss: 0.0175\n",
      "Epoch 14/100\n",
      "225/225 [==============================] - 1s 5ms/step - loss: 0.0127 - val_loss: 0.0174\n",
      "Epoch 15/100\n",
      "225/225 [==============================] - 1s 4ms/step - loss: 0.0123 - val_loss: 0.0209\n",
      "Epoch 16/100\n",
      "225/225 [==============================] - 1s 4ms/step - loss: 0.0109 - val_loss: 0.0177\n",
      "Epoch 17/100\n",
      "225/225 [==============================] - 1s 4ms/step - loss: 0.0107 - val_loss: 0.0171\n",
      "Epoch 18/100\n",
      "225/225 [==============================] - 1s 4ms/step - loss: 0.0105 - val_loss: 0.0199\n",
      "Epoch 19/100\n",
      "225/225 [==============================] - 1s 3ms/step - loss: 0.0114 - val_loss: 0.0169\n",
      "Epoch 20/100\n",
      "225/225 [==============================] - 1s 4ms/step - loss: 0.0109 - val_loss: 0.0190\n",
      "Epoch 21/100\n",
      "225/225 [==============================] - 1s 4ms/step - loss: 0.0098 - val_loss: 0.0183\n",
      "Epoch 22/100\n",
      "225/225 [==============================] - 1s 4ms/step - loss: 0.0106 - val_loss: 0.0171\n",
      "Epoch 23/100\n",
      "225/225 [==============================] - 1s 3ms/step - loss: 0.0108 - val_loss: 0.0193\n",
      "Epoch 24/100\n",
      "225/225 [==============================] - 1s 3ms/step - loss: 0.0101 - val_loss: 0.0189\n",
      "Epoch 25/100\n",
      "225/225 [==============================] - 1s 3ms/step - loss: 0.0100 - val_loss: 0.0191\n",
      "Epoch 26/100\n",
      "225/225 [==============================] - 1s 3ms/step - loss: 0.0096 - val_loss: 0.0176\n",
      "Epoch 27/100\n",
      "225/225 [==============================] - 1s 4ms/step - loss: 0.0098 - val_loss: 0.0195\n",
      "Epoch 28/100\n",
      "225/225 [==============================] - 1s 4ms/step - loss: 0.0101 - val_loss: 0.0173\n",
      "Epoch 29/100\n",
      "225/225 [==============================] - 1s 4ms/step - loss: 0.0098 - val_loss: 0.0186\n",
      "Epoch 30/100\n",
      "225/225 [==============================] - 1s 4ms/step - loss: 0.0105 - val_loss: 0.0194\n",
      "Epoch 31/100\n",
      "225/225 [==============================] - 1s 4ms/step - loss: 0.0103 - val_loss: 0.0182\n",
      "Epoch 32/100\n",
      "225/225 [==============================] - 1s 3ms/step - loss: 0.0108 - val_loss: 0.0171\n",
      "Epoch 33/100\n",
      "225/225 [==============================] - 1s 3ms/step - loss: 0.0100 - val_loss: 0.0187\n",
      "Epoch 34/100\n",
      "225/225 [==============================] - 1s 3ms/step - loss: 0.0097 - val_loss: 0.0181\n",
      "Epoch 35/100\n",
      "225/225 [==============================] - 1s 3ms/step - loss: 0.0099 - val_loss: 0.0193\n",
      "Epoch 36/100\n",
      "225/225 [==============================] - 1s 4ms/step - loss: 0.0101 - val_loss: 0.0174\n",
      "Epoch 37/100\n",
      "225/225 [==============================] - 1s 3ms/step - loss: 0.0097 - val_loss: 0.0200\n",
      "Epoch 38/100\n",
      "225/225 [==============================] - 1s 3ms/step - loss: 0.0098 - val_loss: 0.0177\n",
      "Epoch 39/100\n",
      "225/225 [==============================] - 1s 3ms/step - loss: 0.0099 - val_loss: 0.0188\n",
      "Epoch 40/100\n",
      "225/225 [==============================] - 1s 3ms/step - loss: 0.0102 - val_loss: 0.0173\n",
      "Epoch 41/100\n",
      "225/225 [==============================] - 1s 3ms/step - loss: 0.0101 - val_loss: 0.0212\n",
      "Epoch 42/100\n",
      "225/225 [==============================] - 1s 3ms/step - loss: 0.0114 - val_loss: 0.0171\n",
      "Epoch 43/100\n",
      "225/225 [==============================] - 1s 4ms/step - loss: 0.0099 - val_loss: 0.0179\n",
      "Epoch 44/100\n",
      "225/225 [==============================] - 1s 3ms/step - loss: 0.0098 - val_loss: 0.0184\n",
      "Epoch 45/100\n",
      "225/225 [==============================] - 1s 3ms/step - loss: 0.0099 - val_loss: 0.0173\n",
      "Epoch 46/100\n",
      "225/225 [==============================] - 1s 4ms/step - loss: 0.0099 - val_loss: 0.0184\n",
      "Epoch 47/100\n",
      "225/225 [==============================] - 1s 4ms/step - loss: 0.0096 - val_loss: 0.0174\n",
      "Epoch 48/100\n",
      "225/225 [==============================] - 1s 4ms/step - loss: 0.0097 - val_loss: 0.0195\n",
      "Epoch 49/100\n",
      "225/225 [==============================] - 1s 3ms/step - loss: 0.0103 - val_loss: 0.0175\n",
      "Epoch 50/100\n",
      "225/225 [==============================] - 1s 4ms/step - loss: 0.0097 - val_loss: 0.0190\n",
      "Epoch 51/100\n",
      "225/225 [==============================] - 1s 4ms/step - loss: 0.0095 - val_loss: 0.0199\n",
      "Epoch 52/100\n",
      "225/225 [==============================] - 1s 4ms/step - loss: 0.0096 - val_loss: 0.0172\n",
      "Epoch 53/100\n",
      "225/225 [==============================] - 1s 4ms/step - loss: 0.0096 - val_loss: 0.0197\n",
      "Epoch 54/100\n",
      "225/225 [==============================] - 1s 4ms/step - loss: 0.0095 - val_loss: 0.0181\n",
      "Epoch 55/100\n",
      "225/225 [==============================] - 1s 4ms/step - loss: 0.0096 - val_loss: 0.0180\n",
      "Epoch 56/100\n",
      "225/225 [==============================] - 1s 4ms/step - loss: 0.0097 - val_loss: 0.0210\n",
      "Epoch 57/100\n",
      "225/225 [==============================] - 1s 4ms/step - loss: 0.0094 - val_loss: 0.0182\n",
      "Epoch 58/100\n",
      "225/225 [==============================] - 1s 4ms/step - loss: 0.0097 - val_loss: 0.0176\n",
      "Epoch 59/100\n",
      "225/225 [==============================] - 1s 4ms/step - loss: 0.0098 - val_loss: 0.0194\n",
      "Epoch 60/100\n",
      "225/225 [==============================] - 1s 3ms/step - loss: 0.0093 - val_loss: 0.0194\n",
      "Epoch 61/100\n",
      "225/225 [==============================] - 1s 4ms/step - loss: 0.0091 - val_loss: 0.0176\n",
      "Epoch 62/100\n",
      "225/225 [==============================] - 1s 3ms/step - loss: 0.0095 - val_loss: 0.0183\n",
      "Epoch 63/100\n",
      "225/225 [==============================] - 1s 3ms/step - loss: 0.0089 - val_loss: 0.0191\n",
      "Epoch 64/100\n",
      "225/225 [==============================] - 1s 3ms/step - loss: 0.0100 - val_loss: 0.0180\n",
      "Epoch 65/100\n",
      "225/225 [==============================] - 1s 3ms/step - loss: 0.0092 - val_loss: 0.0194\n",
      "Epoch 66/100\n",
      "225/225 [==============================] - 1s 3ms/step - loss: 0.0090 - val_loss: 0.0175\n",
      "Epoch 67/100\n",
      "225/225 [==============================] - 1s 3ms/step - loss: 0.0092 - val_loss: 0.0185\n",
      "Epoch 68/100\n",
      "225/225 [==============================] - 1s 3ms/step - loss: 0.0092 - val_loss: 0.0178\n",
      "Epoch 69/100\n",
      "225/225 [==============================] - 1s 3ms/step - loss: 0.0101 - val_loss: 0.0240\n",
      "Epoch 70/100\n",
      "225/225 [==============================] - 1s 3ms/step - loss: 0.0096 - val_loss: 0.0177\n",
      "Epoch 71/100\n",
      "225/225 [==============================] - 1s 3ms/step - loss: 0.0090 - val_loss: 0.0200\n",
      "Epoch 72/100\n",
      "225/225 [==============================] - 1s 3ms/step - loss: 0.0091 - val_loss: 0.0182\n",
      "Epoch 73/100\n",
      "225/225 [==============================] - 1s 3ms/step - loss: 0.0089 - val_loss: 0.0184\n",
      "Epoch 74/100\n",
      "225/225 [==============================] - 1s 3ms/step - loss: 0.0093 - val_loss: 0.0185\n",
      "Epoch 75/100\n",
      "225/225 [==============================] - 1s 3ms/step - loss: 0.0093 - val_loss: 0.0183\n",
      "Epoch 76/100\n",
      "225/225 [==============================] - 1s 4ms/step - loss: 0.0094 - val_loss: 0.0175\n",
      "Epoch 77/100\n",
      "225/225 [==============================] - 1s 4ms/step - loss: 0.0112 - val_loss: 0.0183\n",
      "Epoch 78/100\n"
     ]
    },
    {
     "name": "stdout",
     "output_type": "stream",
     "text": [
      "225/225 [==============================] - 1s 4ms/step - loss: 0.0096 - val_loss: 0.0177\n",
      "Epoch 79/100\n",
      "225/225 [==============================] - 1s 4ms/step - loss: 0.0094 - val_loss: 0.0197\n",
      "Epoch 80/100\n",
      "225/225 [==============================] - 1s 3ms/step - loss: 0.0089 - val_loss: 0.0193\n",
      "Epoch 81/100\n",
      "225/225 [==============================] - 1s 3ms/step - loss: 0.0090 - val_loss: 0.0185\n",
      "Epoch 82/100\n",
      "225/225 [==============================] - 1s 3ms/step - loss: 0.0088 - val_loss: 0.0187\n",
      "Epoch 83/100\n",
      "225/225 [==============================] - 1s 3ms/step - loss: 0.0090 - val_loss: 0.0188\n",
      "Epoch 84/100\n",
      "225/225 [==============================] - 1s 3ms/step - loss: 0.0088 - val_loss: 0.0190\n",
      "Epoch 85/100\n",
      "225/225 [==============================] - 1s 3ms/step - loss: 0.0087 - val_loss: 0.0188\n",
      "Epoch 86/100\n",
      "225/225 [==============================] - 1s 3ms/step - loss: 0.0088 - val_loss: 0.0187\n",
      "Epoch 87/100\n",
      "225/225 [==============================] - 1s 3ms/step - loss: 0.0091 - val_loss: 0.0198\n",
      "Epoch 88/100\n",
      "225/225 [==============================] - 1s 3ms/step - loss: 0.0093 - val_loss: 0.0193\n",
      "Epoch 89/100\n",
      "225/225 [==============================] - 1s 3ms/step - loss: 0.0104 - val_loss: 0.0194\n",
      "Epoch 90/100\n",
      "225/225 [==============================] - 1s 3ms/step - loss: 0.0089 - val_loss: 0.0186\n",
      "Epoch 91/100\n",
      "225/225 [==============================] - 1s 3ms/step - loss: 0.0090 - val_loss: 0.0201\n",
      "Epoch 92/100\n",
      "225/225 [==============================] - 1s 3ms/step - loss: 0.0092 - val_loss: 0.0179\n",
      "Epoch 93/100\n",
      "225/225 [==============================] - 1s 3ms/step - loss: 0.0089 - val_loss: 0.0192\n",
      "Epoch 94/100\n",
      "225/225 [==============================] - 1s 3ms/step - loss: 0.0088 - val_loss: 0.0190\n",
      "Epoch 95/100\n",
      "225/225 [==============================] - 1s 3ms/step - loss: 0.0087 - val_loss: 0.0190\n",
      "Epoch 96/100\n",
      "225/225 [==============================] - 1s 3ms/step - loss: 0.0087 - val_loss: 0.0187\n",
      "Epoch 97/100\n",
      "225/225 [==============================] - 1s 3ms/step - loss: 0.0092 - val_loss: 0.0179\n",
      "Epoch 98/100\n",
      "225/225 [==============================] - 1s 3ms/step - loss: 0.0089 - val_loss: 0.0186\n",
      "Epoch 99/100\n",
      "225/225 [==============================] - 1s 3ms/step - loss: 0.0088 - val_loss: 0.0185\n",
      "Epoch 100/100\n",
      "225/225 [==============================] - 1s 3ms/step - loss: 0.0084 - val_loss: 0.0189\n"
     ]
    },
    {
     "data": {
      "text/plain": [
       "<keras.callbacks.History at 0x135711b70>"
      ]
     },
     "execution_count": 7,
     "metadata": {},
     "output_type": "execute_result"
    }
   ],
   "source": [
    "model.fit(X_train, y_train, batch_size=20,epochs=100,validation_split=0.1)"
   ]
  },
  {
   "cell_type": "markdown",
   "metadata": {},
   "source": [
    "# 预测结果"
   ]
  },
  {
   "cell_type": "code",
   "execution_count": 8,
   "metadata": {
    "scrolled": true
   },
   "outputs": [
    {
     "data": {
      "text/plain": [
       "<matplotlib.legend.Legend at 0x13281f080>"
      ]
     },
     "execution_count": 8,
     "metadata": {},
     "output_type": "execute_result"
    },
    {
     "data": {
      "image/png": "[encoded data removed]",
      "text/plain": [
       "<Figure size 432x288 with 1 Axes>"
      ]
     },
     "metadata": {
      "needs_background": "light"
     },
     "output_type": "display_data"
    }
   ],
   "source": [
    "#inverse_transform获得归一化前的原始数据\n",
    "plt.plot(scaler_minmax.inverse_transform(d[:,-1]),label='true data')\n",
    "plt.plot(scaler_minmax.inverse_transform(model.predict(d[:,:-1])),'r:',label='predict')\n",
    "plt.legend()"
   ]
  },
  {
   "cell_type": "code",
   "execution_count": 9,
   "metadata": {},
   "outputs": [
    {
     "data": {
      "text/plain": [
       "<matplotlib.legend.Legend at 0x1329afba8>"
      ]
     },
     "execution_count": 9,
     "metadata": {},
     "output_type": "execute_result"
    },
    {
     "data": {
      "image/png": "[encoded data removed]",
      "text/plain": [
       "<Figure size 432x288 with 1 Axes>"
      ]
     },
     "metadata": {
      "needs_background": "light"
     },
     "output_type": "display_data"
    }
   ],
   "source": [
    "plt.plot()\n",
    "plt.plot(scaler_minmax.inverse_transform(d[int(len(d)*split_rate):,-1]),label='true data')\n",
    "plt.plot(scaler_minmax.inverse_transform(model.predict(d[int(len(d)*split_rate):,:-1])),'r:',label='predict')\n",
    "plt.legend()"
   ]
  },
  {
   "cell_type": "code",
   "execution_count": null,
   "metadata": {},
   "outputs": [],
   "source": []
  },
  {
   "cell_type": "code",
   "execution_count": null,
   "metadata": {},
   "outputs": [],
   "source": []
  }
 ],
 "metadata": {
  "kernelspec": {
   "display_name": "Python 3",
   "language": "python",
   "name": "python3"
  },
  "language_info": {
   "codemirror_mode": {
    "name": "ipython",
    "version": 3
   },
   "file_extension": ".py",
   "mimetype": "text/x-python",
   "name": "python",
   "nbconvert_exporter": "python",
   "pygments_lexer": "ipython3",
   "version": "3.7.2"
  },
  "toc": {
   "base_numbering": 1,
   "nav_menu": {},
   "number_sections": true,
   "sideBar": true,
   "skip_h1_title": false,
   "title_cell": "Table of Contents",
   "title_sidebar": "Contents",
   "toc_cell": false,
   "toc_position": {},
   "toc_section_display": true,
   "toc_window_display": false
  }
 },
 "nbformat": 4,
 "nbformat_minor": 2
}
